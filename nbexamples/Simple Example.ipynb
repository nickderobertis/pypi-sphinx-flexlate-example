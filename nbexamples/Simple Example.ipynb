{
 "cells": [
  {
   "cell_type": "markdown",
   "id": "3465493a-0da8-41f2-9976-cf1aeaa562d9",
   "metadata": {},
   "source": [
    "# Example Notebook\n",
    "\n",
    "This is an example notebook to show how notebook examples in the docs look."
   ]
  },
  {
   "cell_type": "code",
   "execution_count": 1,
   "id": "374bddcf-cf9d-43da-be7d-1c52aca10c20",
   "metadata": {},
   "outputs": [
    {
     "name": "stdout",
     "output_type": "stream",
     "text": [
      "woo\n"
     ]
    }
   ],
   "source": [
    "print(\"woo\")"
   ]
  },
  {
   "cell_type": "code",
   "execution_count": 6,
   "id": "9c6c66b7-a441-4e37-a32c-88e2d421102e",
   "metadata": {},
   "outputs": [
    {
     "data": {
      "text/html": [
       "<img src=\"https://http.cat/200\"></img>"
      ],
      "text/plain": [
       "<IPython.core.display.HTML object>"
      ]
     },
     "metadata": {},
     "output_type": "display_data"
    }
   ],
   "source": [
    "from IPython.display import display, HTML\n",
    "display(HTML('<img src=\"https://http.cat/200\"></img>'))"
   ]
  },
  {
   "cell_type": "markdown",
   "id": "477b71d6-f02d-4b6f-a7e4-41557faa2504",
   "metadata": {},
   "source": [
    "## Heading 2"
   ]
  },
  {
   "cell_type": "markdown",
   "id": "252cb3e1-3a32-44ca-b370-e6e1dd4a08aa",
   "metadata": {},
   "source": [
    "### Heading 3\n",
    "\n",
    "And a paragraph, then an equation."
   ]
  },
  {
   "cell_type": "markdown",
   "id": "4151f7d8-e83f-4d0e-adc9-c38b9d1a14b8",
   "metadata": {},
   "source": [
    "$$\n",
    "\\sum_i^n {a_i b_i}\n",
    "$$"
   ]
  }
 ],
 "metadata": {
  "kernelspec": {
   "display_name": "copier-pypi-sphinx-flexlate-AtefcOCH-python",
   "language": "python",
   "name": "python3"
  },
  "language_info": {
   "codemirror_mode": {
    "name": "ipython",
    "version": 3
   },
   "file_extension": ".py",
   "mimetype": "text/x-python",
   "name": "python",
   "nbconvert_exporter": "python",
   "pygments_lexer": "ipython3",
   "version": "3.8.5 (default, Sep 23 2020, 17:54:02) \n[GCC 9.3.0]"
  },
  "vscode": {
   "interpreter": {
    "hash": "9be4b7fa5927ec8b0b945e28aba22672f8cd73d6c6cc5810160123849fd7131b"
   }
  }
 },
 "nbformat": 4,
 "nbformat_minor": 5
}
